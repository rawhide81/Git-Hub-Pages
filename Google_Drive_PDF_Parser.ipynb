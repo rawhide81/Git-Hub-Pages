{
  "cells": [
    {
      "cell_type": "markdown",
      "metadata": {
        "id": "view-in-github",
        "colab_type": "text"
      },
      "source": [
        "<a href=\"https://colab.research.google.com/github/rawhide81/Git-Hub-Pages/blob/main/Google_Drive_PDF_Parser.ipynb\" target=\"_parent\"><img src=\"https://colab.research.google.com/assets/colab-badge.svg\" alt=\"Open In Colab\"/></a>"
      ]
    },
    {
      "cell_type": "code",
      "source": [
        "import os\n",
        "from google.oauth2 import credentials\n",
        "from googleapiclient.discovery import build\n",
        "from googleapiclient.http import MediaIoBaseDownload\n",
        "from google.auth.transport.requests import Request\n",
        "from google.auth.exceptions import RefreshError\n",
        "import io\n",
        "import PyPDF2  # For PDF parsing\n",
        "import re  # For regular expressions (keyword/phrase search)\n",
        "import spacy #For entity recognition\n",
        "\n",
        "# Configure your Google Drive API credentials\n",
        "SCOPES = ['https://www.googleapis.com/auth/drive.readonly']  # Read-only access\n",
        "CREDENTIALS_FILE = 'token.json'  # Path to your credentials file\n",
        "\n",
        "def get_credentials():\n",
        "    creds = None\n",
        "    if os.path.exists(CREDENTIALS_FILE):\n",
        "        creds = credentials.Credentials.from_authorized_user_file(CREDENTIALS_FILE, SCOPES)\n",
        "    if not creds or not creds.valid:\n",
        "        if creds and creds.expired and creds.refresh_token:\n",
        "            try:\n",
        "                creds.refresh(Request())\n",
        "            except RefreshError:\n",
        "                os.remove(CREDENTIALS_FILE)\n",
        "                return None\n",
        "        else:\n",
        "            return None\n",
        "    return creds\n",
        "\n",
        "def get_drive_service():\n",
        "    creds = get_credentials()\n",
        "    if not creds:\n",
        "        print(\"Please authenticate. Run the google drive api quickstart example to generate a token.json file\")\n",
        "        return None\n",
        "    return build('drive', 'v3', credentials=creds)\n",
        "\n",
        "def search_files(service, query):\n",
        "    results = service.files().list(q=query, fields=\"nextPageToken, files(id, name)\").execute()\n",
        "    items = results.get('files', [])\n",
        "    return items\n",
        "\n",
        "def download_file(service, file_id, filename):\n",
        "    request = service.files().get_media(fileId=file_id)\n",
        "    fh = io.BytesIO()\n",
        "    downloader = MediaIoBaseDownload(fh, request)\n",
        "    done = False\n",
        "    while done is False:\n",
        "        status, done = downloader.next_chunk()\n",
        "    fh.seek(0)\n",
        "    with open(filename, 'wb') as f:\n",
        "        f.write(fh.read())\n",
        "\n",
        "def parse_pdf(file_path, keywords=None, phrases=None, entity_types=None):\n",
        "    try:\n",
        "        with open(file_path, 'rb') as file:\n",
        "            reader = PyPDF2.PdfReader(file)\n",
        "            text = \"\"\n",
        "            for page in reader.pages:\n",
        "                text += page.extract_text() or \"\" #Handle cases of no text.\n",
        "\n",
        "            results = {}\n",
        "\n",
        "            if keywords:\n",
        "                results['keywords'] = [keyword for keyword in keywords if re.search(r'\\b' + re.escape(keyword) + r'\\b', text, re.IGNORECASE)]\n",
        "\n",
        "            if phrases:\n",
        "                results['phrases'] = [phrase for phrase in phrases if re.search(re.escape(phrase), text, re.IGNORECASE)]\n",
        "\n",
        "            if entity_types:\n",
        "                nlp = spacy.load(\"en_core_web_sm\")\n",
        "                doc = nlp(text)\n",
        "                found_entities = []\n",
        "                for ent in doc.ents:\n",
        "                    if ent.label_ in entity_types:\n",
        "                        found_entities.append((ent.text, ent.label_))\n",
        "                results['entities'] = found_entities\n",
        "\n",
        "            return results\n",
        "\n",
        "    except FileNotFoundError:\n",
        "        print(f\"Error: File not found at {file_path}\")\n",
        "        return None\n",
        "    except PyPDF2.errors.PdfReadError:\n",
        "        print(f\"Error: Could not read PDF at {file_path}\")\n",
        "        return None\n",
        "    except Exception as e:\n",
        "        print(f\"An unexpected error occured when parsing {file_path}: {e}\")\n",
        "        return None\n",
        "\n",
        "def main():\n",
        "    service = get_drive_service()\n",
        "    if not service:\n",
        "        return\n",
        "\n",
        "    query = \"mimeType='application/pdf'\"\n",
        "    pdf_files = search_files(service, query)\n",
        "\n",
        "    if not pdf_files:\n",
        "        print(\"No PDF files found in My Drive.\")\n",
        "        return\n",
        "\n",
        "    keywords = [\"example\", \"report\", \"data\"]  # Example keywords\n",
        "    phrases = [\"financial analysis\", \"project timeline\"] #Example phrases\n",
        "    entity_types = [\"ORG\", \"PERSON\", \"GPE\"] #Example entity types.\n",
        "\n",
        "    for file in pdf_files:\n",
        "        print(f\"Processing: {file['name']}\")\n",
        "        file_id = file['id']\n",
        "        file_name = file['name']\n",
        "\n",
        "        download_file(service, file_id, file_name)\n",
        "\n",
        "        results = parse_pdf(file_name, keywords, phrases, entity_types)\n",
        "\n",
        "        if results:\n",
        "            print(f\"Results for {file_name}:\")\n",
        "            for key, value in results.items():\n",
        "                if value: #Only print if results were found\n",
        "                    print(f\"  {key}: {value}\")\n",
        "        os.remove(file_name) #Delete local copy after parsing.\n",
        "        print(\"-\" * 20)\n",
        "\n",
        "if __name__ == \"__main__\":\n",
        "    main()"
      ],
      "outputs": [
        {
          "output_type": "error",
          "ename": "ModuleNotFoundError",
          "evalue": "No module named 'PyPDF2'",
          "traceback": [
            "\u001b[0;31m---------------------------------------------------------------------------\u001b[0m",
            "\u001b[0;31mModuleNotFoundError\u001b[0m                       Traceback (most recent call last)",
            "\u001b[0;32m<ipython-input-1-e4d6b6ec6649>\u001b[0m in \u001b[0;36m<cell line: 0>\u001b[0;34m()\u001b[0m\n\u001b[1;32m      6\u001b[0m \u001b[0;32mfrom\u001b[0m \u001b[0mgoogle\u001b[0m\u001b[0;34m.\u001b[0m\u001b[0mauth\u001b[0m\u001b[0;34m.\u001b[0m\u001b[0mexceptions\u001b[0m \u001b[0;32mimport\u001b[0m \u001b[0mRefreshError\u001b[0m\u001b[0;34m\u001b[0m\u001b[0;34m\u001b[0m\u001b[0m\n\u001b[1;32m      7\u001b[0m \u001b[0;32mimport\u001b[0m \u001b[0mio\u001b[0m\u001b[0;34m\u001b[0m\u001b[0;34m\u001b[0m\u001b[0m\n\u001b[0;32m----> 8\u001b[0;31m \u001b[0;32mimport\u001b[0m \u001b[0mPyPDF2\u001b[0m  \u001b[0;31m# For PDF parsing\u001b[0m\u001b[0;34m\u001b[0m\u001b[0;34m\u001b[0m\u001b[0m\n\u001b[0m\u001b[1;32m      9\u001b[0m \u001b[0;32mimport\u001b[0m \u001b[0mre\u001b[0m  \u001b[0;31m# For regular expressions (keyword/phrase search)\u001b[0m\u001b[0;34m\u001b[0m\u001b[0;34m\u001b[0m\u001b[0m\n\u001b[1;32m     10\u001b[0m \u001b[0;32mimport\u001b[0m \u001b[0mspacy\u001b[0m \u001b[0;31m#For entity recognition\u001b[0m\u001b[0;34m\u001b[0m\u001b[0;34m\u001b[0m\u001b[0m\n",
            "\u001b[0;31mModuleNotFoundError\u001b[0m: No module named 'PyPDF2'",
            "",
            "\u001b[0;31m---------------------------------------------------------------------------\u001b[0;32m\nNOTE: If your import is failing due to a missing package, you can\nmanually install dependencies using either !pip or !apt.\n\nTo view examples of installing some common dependencies, click the\n\"Open Examples\" button below.\n\u001b[0;31m---------------------------------------------------------------------------\u001b[0m\n"
          ],
          "errorDetails": {
            "actions": [
              {
                "action": "open_url",
                "actionText": "Open Examples",
                "url": "/notebooks/snippets/importing_libraries.ipynb"
              }
            ]
          }
        }
      ],
      "execution_count": 1,
      "metadata": {
        "colab": {
          "base_uri": "https://localhost:8080/",
          "height": 404
        },
        "id": "Own7HLRyOUhV",
        "outputId": "f358973b-3f50-4cdc-a231-0d7f8a3b7da1"
      }
    }
  ],
  "metadata": {
    "colab": {
      "provenance": [],
      "include_colab_link": true
    },
    "kernelspec": {
      "display_name": "Python 3",
      "name": "python3"
    }
  },
  "nbformat": 4,
  "nbformat_minor": 0
}